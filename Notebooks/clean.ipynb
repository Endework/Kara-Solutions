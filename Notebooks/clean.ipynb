{
 "cells": [
  {
   "cell_type": "code",
   "execution_count": 1,
   "metadata": {},
   "outputs": [],
   "source": [
    "import pandas as pd\n",
    "import numpy as np \n"
   ]
  },
  {
   "cell_type": "code",
   "execution_count": 6,
   "metadata": {},
   "outputs": [],
   "source": [
    "df_che=pd.read_csv('../Scripts/temp/CheMed_photo_info.csv')\n",
    "df_lob=pd.read_csv('../Scripts/temp/lobelia_photo_info.csv')\n",
    "df_telegram=pd.read_csv('../Data/scraped_telegram_data.csv')\n"
   ]
  },
  {
   "cell_type": "code",
   "execution_count": 7,
   "metadata": {},
   "outputs": [],
   "source": [
    "df_che['Source']='CheMed'\n",
    "df_lob['Source']='lobelia'"
   ]
  },
  {
   "cell_type": "code",
   "execution_count": 8,
   "metadata": {},
   "outputs": [],
   "source": [
    "df_image = pd.concat([df_che, df_lob])\n",
    "df_image = df_image.sample(frac=1).reset_index(drop=True)"
   ]
  },
  {
   "cell_type": "code",
   "execution_count": 9,
   "metadata": {},
   "outputs": [
    {
     "data": {
      "text/html": [
       "<div>\n",
       "<style scoped>\n",
       "    .dataframe tbody tr th:only-of-type {\n",
       "        vertical-align: middle;\n",
       "    }\n",
       "\n",
       "    .dataframe tbody tr th {\n",
       "        vertical-align: top;\n",
       "    }\n",
       "\n",
       "    .dataframe thead th {\n",
       "        text-align: right;\n",
       "    }\n",
       "</style>\n",
       "<table border=\"1\" class=\"dataframe\">\n",
       "  <thead>\n",
       "    <tr style=\"text-align: right;\">\n",
       "      <th></th>\n",
       "      <th>Photo URL</th>\n",
       "      <th>Date</th>\n",
       "      <th>Text</th>\n",
       "      <th>Source</th>\n",
       "    </tr>\n",
       "  </thead>\n",
       "  <tbody>\n",
       "    <tr>\n",
       "      <th>0</th>\n",
       "      <td>https://t.me/lobelia4cosmetics\\photos/photo_60...</td>\n",
       "      <td>2022-04-25T16:34:39</td>\n",
       "      <td>Prenatal \\nPrice 3000 birr \\nTelegram Msg👉 Lob...</td>\n",
       "      <td>lobelia</td>\n",
       "    </tr>\n",
       "    <tr>\n",
       "      <th>1</th>\n",
       "      <td>https://t.me/lobelia4cosmetics\\photos/photo_28...</td>\n",
       "      <td>2022-01-04T20:19:59</td>\n",
       "      <td>NaN</td>\n",
       "      <td>lobelia</td>\n",
       "    </tr>\n",
       "    <tr>\n",
       "      <th>2</th>\n",
       "      <td>https://t.me/lobelia4cosmetics\\photos/photo_22...</td>\n",
       "      <td>2024-05-29T08:50:18</td>\n",
       "      <td>Pediasure 3+ 1.6kg \\nPrice 4600 birr \\nTelegra...</td>\n",
       "      <td>lobelia</td>\n",
       "    </tr>\n",
       "    <tr>\n",
       "      <th>3</th>\n",
       "      <td>https://t.me/lobelia4cosmetics\\photos/photo_22...</td>\n",
       "      <td>2024-05-13T20:24:03</td>\n",
       "      <td>Wellman Conception \\nPrice 4000\\nTelegram Msg👉...</td>\n",
       "      <td>lobelia</td>\n",
       "    </tr>\n",
       "    <tr>\n",
       "      <th>4</th>\n",
       "      <td>https://t.me/lobelia4cosmetics\\photos/photo_94...</td>\n",
       "      <td>2022-10-21T16:03:50</td>\n",
       "      <td>Ensure 850 gm\\nPrice 2500 birr \\nTelegram Msg👉...</td>\n",
       "      <td>lobelia</td>\n",
       "    </tr>\n",
       "  </tbody>\n",
       "</table>\n",
       "</div>"
      ],
      "text/plain": [
       "                                           Photo URL                 Date  \\\n",
       "0  https://t.me/lobelia4cosmetics\\photos/photo_60...  2022-04-25T16:34:39   \n",
       "1  https://t.me/lobelia4cosmetics\\photos/photo_28...  2022-01-04T20:19:59   \n",
       "2  https://t.me/lobelia4cosmetics\\photos/photo_22...  2024-05-29T08:50:18   \n",
       "3  https://t.me/lobelia4cosmetics\\photos/photo_22...  2024-05-13T20:24:03   \n",
       "4  https://t.me/lobelia4cosmetics\\photos/photo_94...  2022-10-21T16:03:50   \n",
       "\n",
       "                                                Text   Source  \n",
       "0  Prenatal \\nPrice 3000 birr \\nTelegram Msg👉 Lob...  lobelia  \n",
       "1                                                NaN  lobelia  \n",
       "2  Pediasure 3+ 1.6kg \\nPrice 4600 birr \\nTelegra...  lobelia  \n",
       "3  Wellman Conception \\nPrice 4000\\nTelegram Msg👉...  lobelia  \n",
       "4  Ensure 850 gm\\nPrice 2500 birr \\nTelegram Msg👉...  lobelia  "
      ]
     },
     "execution_count": 9,
     "metadata": {},
     "output_type": "execute_result"
    }
   ],
   "source": [
    "df_image.head()"
   ]
  },
  {
   "cell_type": "code",
   "execution_count": 11,
   "metadata": {},
   "outputs": [
    {
     "name": "stdout",
     "output_type": "stream",
     "text": [
      "<class 'pandas.core.frame.DataFrame'>\n",
      "RangeIndex: 3392 entries, 0 to 3391\n",
      "Data columns (total 4 columns):\n",
      " #   Column     Non-Null Count  Dtype \n",
      "---  ------     --------------  ----- \n",
      " 0   Photo URL  3392 non-null   object\n",
      " 1   Date       3392 non-null   object\n",
      " 2   Text       3023 non-null   object\n",
      " 3   Source     3392 non-null   object\n",
      "dtypes: object(4)\n",
      "memory usage: 106.1+ KB\n"
     ]
    }
   ],
   "source": [
    "df_image.info()"
   ]
  },
  {
   "cell_type": "code",
   "execution_count": 10,
   "metadata": {},
   "outputs": [
    {
     "data": {
      "text/html": [
       "<div>\n",
       "<style scoped>\n",
       "    .dataframe tbody tr th:only-of-type {\n",
       "        vertical-align: middle;\n",
       "    }\n",
       "\n",
       "    .dataframe tbody tr th {\n",
       "        vertical-align: top;\n",
       "    }\n",
       "\n",
       "    .dataframe thead th {\n",
       "        text-align: right;\n",
       "    }\n",
       "</style>\n",
       "<table border=\"1\" class=\"dataframe\">\n",
       "  <thead>\n",
       "    <tr style=\"text-align: right;\">\n",
       "      <th></th>\n",
       "      <th>date</th>\n",
       "      <th>text</th>\n",
       "      <th>sender</th>\n",
       "    </tr>\n",
       "  </thead>\n",
       "  <tbody>\n",
       "    <tr>\n",
       "      <th>0</th>\n",
       "      <td>2022-04-28T05:46:38+00:00</td>\n",
       "      <td>ሃያት ሆስፒታል ሜዲካል ኮሌጅህክምና ለማግኘት አስበዋል ?የት መሄድስ እን...</td>\n",
       "      <td>Unknown</td>\n",
       "    </tr>\n",
       "    <tr>\n",
       "      <th>1</th>\n",
       "      <td>2022-04-29T18:57:35+00:00</td>\n",
       "      <td>NaN</td>\n",
       "      <td>Unknown</td>\n",
       "    </tr>\n",
       "    <tr>\n",
       "      <th>2</th>\n",
       "      <td>2022-04-29T18:59:05+00:00</td>\n",
       "      <td>NaN</td>\n",
       "      <td>Unknown</td>\n",
       "    </tr>\n",
       "    <tr>\n",
       "      <th>3</th>\n",
       "      <td>2022-05-01T11:13:33+00:00</td>\n",
       "      <td>ከሳምንት በፊት በለቀቅነው ቦርጭን በህክምና እንዴት ማጥፋት ይቻላል በሚለ...</td>\n",
       "      <td>Unknown</td>\n",
       "    </tr>\n",
       "    <tr>\n",
       "      <th>4</th>\n",
       "      <td>2022-05-06T17:51:05+00:00</td>\n",
       "      <td>ዛሬ ምሽት 3:30 በ ፋና ቴሌቪዥንስለ ፕሮቲን : ክሬቲን ፓውደሮች ምን ...</td>\n",
       "      <td>Unknown</td>\n",
       "    </tr>\n",
       "  </tbody>\n",
       "</table>\n",
       "</div>"
      ],
      "text/plain": [
       "                        date  \\\n",
       "0  2022-04-28T05:46:38+00:00   \n",
       "1  2022-04-29T18:57:35+00:00   \n",
       "2  2022-04-29T18:59:05+00:00   \n",
       "3  2022-05-01T11:13:33+00:00   \n",
       "4  2022-05-06T17:51:05+00:00   \n",
       "\n",
       "                                                text   sender  \n",
       "0  ሃያት ሆስፒታል ሜዲካል ኮሌጅህክምና ለማግኘት አስበዋል ?የት መሄድስ እን...  Unknown  \n",
       "1                                                NaN  Unknown  \n",
       "2                                                NaN  Unknown  \n",
       "3  ከሳምንት በፊት በለቀቅነው ቦርጭን በህክምና እንዴት ማጥፋት ይቻላል በሚለ...  Unknown  \n",
       "4  ዛሬ ምሽት 3:30 በ ፋና ቴሌቪዥንስለ ፕሮቲን : ክሬቲን ፓውደሮች ምን ...  Unknown  "
      ]
     },
     "execution_count": 10,
     "metadata": {},
     "output_type": "execute_result"
    }
   ],
   "source": [
    "df_telegram.head()"
   ]
  },
  {
   "cell_type": "code",
   "execution_count": 12,
   "metadata": {},
   "outputs": [
    {
     "name": "stdout",
     "output_type": "stream",
     "text": [
      "<class 'pandas.core.frame.DataFrame'>\n",
      "RangeIndex: 400 entries, 0 to 399\n",
      "Data columns (total 3 columns):\n",
      " #   Column  Non-Null Count  Dtype \n",
      "---  ------  --------------  ----- \n",
      " 0   date    400 non-null    object\n",
      " 1   text    388 non-null    object\n",
      " 2   sender  400 non-null    object\n",
      "dtypes: object(3)\n",
      "memory usage: 9.5+ KB\n"
     ]
    }
   ],
   "source": [
    "df_telegram.info()"
   ]
  },
  {
   "cell_type": "code",
   "execution_count": 13,
   "metadata": {},
   "outputs": [],
   "source": [
    "# Remove duplicates in df_telegram\n",
    "df_telegram.drop_duplicates(inplace=True)\n",
    "\n",
    "# Remove duplicates in df_image\n",
    "df_image.drop_duplicates(inplace=True)"
   ]
  },
  {
   "cell_type": "code",
   "execution_count": 15,
   "metadata": {},
   "outputs": [
    {
     "name": "stdout",
     "output_type": "stream",
     "text": [
      "\n",
      "Missing values in Telegram DataFrame:\n",
      "date      0\n",
      "text      2\n",
      "sender    0\n",
      "dtype: int64\n"
     ]
    }
   ],
   "source": [
    "print(\"\\nMissing values in Telegram DataFrame:\")\n",
    "print(df_telegram.isnull().sum())"
   ]
  },
  {
   "cell_type": "code",
   "execution_count": 16,
   "metadata": {},
   "outputs": [
    {
     "name": "stdout",
     "output_type": "stream",
     "text": [
      "\n",
      "Missing values in Image DataFrame:\n",
      "Photo URL      0\n",
      "Date           0\n",
      "Text         364\n",
      "Source         0\n",
      "dtype: int64\n"
     ]
    }
   ],
   "source": [
    "\n",
    "\n",
    "# Count missing values in df_image\n",
    "print(\"\\nMissing values in Image DataFrame:\")\n",
    "print(df_image.isnull().sum())"
   ]
  },
  {
   "cell_type": "code",
   "execution_count": 17,
   "metadata": {},
   "outputs": [],
   "source": [
    "df_telegram.dropna(inplace=True)\n"
   ]
  },
  {
   "cell_type": "code",
   "execution_count": 18,
   "metadata": {},
   "outputs": [],
   "source": [
    "# Convert 'Date' column in both DataFrames to datetime format\n",
    "df_telegram['date'] = pd.to_datetime(df_telegram['date'])\n",
    "df_image['Date'] = pd.to_datetime(df_image['Date'])"
   ]
  },
  {
   "cell_type": "code",
   "execution_count": 21,
   "metadata": {},
   "outputs": [
    {
     "name": "stdout",
     "output_type": "stream",
     "text": [
      "\n",
      "Cleaning and transformation completed. Data saved to CSV files.\n"
     ]
    }
   ],
   "source": [
    "# Save the cleaned DataFrames to new CSV files\n",
    "df_telegram.to_csv('./cleaned_telegram.csv', index=False)\n",
    "df_image.to_csv('./cleaned_image.csv', index=False)\n",
    "\n",
    "print(\"\\nCleaning and transformation completed. Data saved to CSV files.\")"
   ]
  },
  {
   "cell_type": "code",
   "execution_count": 2,
   "metadata": {},
   "outputs": [],
   "source": [
    "import pandas as pd \n",
    "\n",
    "# Load your cleaned DataFrames\n",
    "df_telegram = pd.read_csv('./cleaned_telegram.csv')\n",
    "df_image = pd.read_csv('./cleaned_image.csv')\n",
    "\n",
    "\n"
   ]
  },
  {
   "cell_type": "code",
   "execution_count": 4,
   "metadata": {},
   "outputs": [
    {
     "name": "stdout",
     "output_type": "stream",
     "text": [
      "Requirement already satisfied: dbt in c:\\users\\ende\\anaconda3_new\\envs\\enve\\lib\\site-packages (1.0.0.37.19)\n",
      "Requirement already satisfied: setuptools>=61.2 in c:\\users\\ende\\anaconda3_new\\envs\\enve\\lib\\site-packages (from dbt) (69.5.1)\n",
      "Note: you may need to restart the kernel to use updated packages.\n"
     ]
    }
   ],
   "source": [
    "pip install dbt\n"
   ]
  },
  {
   "cell_type": "code",
   "execution_count": 5,
   "metadata": {},
   "outputs": [
    {
     "ename": "SyntaxError",
     "evalue": "invalid syntax (2018957853.py, line 1)",
     "output_type": "error",
     "traceback": [
      "\u001b[1;36m  Cell \u001b[1;32mIn[5], line 1\u001b[1;36m\u001b[0m\n\u001b[1;33m    dbt init my_project\u001b[0m\n\u001b[1;37m        ^\u001b[0m\n\u001b[1;31mSyntaxError\u001b[0m\u001b[1;31m:\u001b[0m invalid syntax\n"
     ]
    }
   ],
   "source": [
    "dbt init my_project\n"
   ]
  }
 ],
 "metadata": {
  "kernelspec": {
   "display_name": "Python 3",
   "language": "python",
   "name": "python3"
  },
  "language_info": {
   "codemirror_mode": {
    "name": "ipython",
    "version": 3
   },
   "file_extension": ".py",
   "mimetype": "text/x-python",
   "name": "python",
   "nbconvert_exporter": "python",
   "pygments_lexer": "ipython3",
   "version": "3.12.3"
  }
 },
 "nbformat": 4,
 "nbformat_minor": 2
}
